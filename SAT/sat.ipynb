{
 "cells": [
  {
   "cell_type": "markdown",
   "metadata": {
    "id": "FXf9q91b4KqO"
   },
   "source": [
    "# SAT"
   ]
  },
  {
   "cell_type": "code",
   "execution_count": 1,
   "metadata": {
    "colab": {
     "base_uri": "https://localhost:8080/"
    },
    "id": "uh3uzxcK3re-",
    "outputId": "8c03c436-3dc6-45db-a3dd-00e8f7f6e78e",
    "pycharm": {
     "is_executing": true
    }
   },
   "outputs": [
    {
     "name": "stdout",
     "output_type": "stream",
     "text": [
      "Looking in indexes: https://pypi.org/simple, https://pypi.ngc.nvidia.com\n",
      "Requirement already satisfied: z3-solver in /opt/conda/lib/python3.7/site-packages (4.11.2.0)\n",
      "\u001b[33mWARNING: You are using pip version 21.0.1; however, version 22.3 is available.\n",
      "You should consider upgrading via the '/opt/conda/bin/python -m pip install --upgrade pip' command.\u001b[0m\n"
     ]
    }
   ],
   "source": [
    "!pip3 install z3-solver"
   ]
  },
  {
   "cell_type": "code",
   "execution_count": 2,
   "metadata": {},
   "outputs": [],
   "source": [
    "from itertools import combinations\n",
    "from z3 import *\n",
    "import utils \n",
    "import math\n",
    "import time\n",
    "import os\n",
    "from tqdm import tqdm\n",
    "import numpy as np\n",
    "from sat_utils import *"
   ]
  },
  {
   "cell_type": "code",
   "execution_count": 3,
   "metadata": {},
   "outputs": [],
   "source": [
    "OVERRIDE = False"
   ]
  },
  {
   "cell_type": "markdown",
   "metadata": {},
   "source": [
    "## Defining solvers"
   ]
  },
  {
   "cell_type": "code",
   "execution_count": 4,
   "metadata": {},
   "outputs": [],
   "source": [
    "class SATSolver:\n",
    "\n",
    "    def __init__(self, timeout = None):\n",
    "        self.solver = Solver()\n",
    "        if timeout != None:\n",
    "            self.solver.set(timeout= timeout * 1000)\n",
    "\n",
    "    def add_constraint(self, constraint):\n",
    "        self.solver.add(constraint)\n",
    "\n",
    "    def solve(self):\n",
    "        return self.solver.check()\n",
    "\n",
    "    def get_model(self):\n",
    "        return self.solver.model()"
   ]
  },
  {
   "cell_type": "code",
   "execution_count": 5,
   "metadata": {},
   "outputs": [],
   "source": [
    "from re import S\n",
    "\n",
    "\n",
    "class VLSISolver:\n",
    "\n",
    "    def __init__(self, plate_width, n_chips, chips_widths, chips_heights, rotation, symmetry_breaking, time_available, interrupt):\n",
    "        self.plate_width = plate_width\n",
    "        self.n_chips = n_chips\n",
    "        self.chips_widths = chips_widths\n",
    "        self.chips_heights = chips_heights\n",
    "        self.rotation = rotation\n",
    "        self.symmetry_breaking = symmetry_breaking  \n",
    "        self.time_available = time_available\n",
    "        self.interrupt = interrupt\n",
    "\n",
    "        self.min_height = math.ceil(np.sum(chips_widths * chips_heights) / plate_width)\n",
    "        self.max_height = np.sum([min(h, w) for h, w in zip(chips_heights, chips_widths)]) if rotation else np.sum(chips_heights)\n",
    "\n",
    "        self.solved = False\n",
    "        self.plate = None\n",
    "        self.rotated = None\n",
    "        self.plate_height = None\n",
    "        self.solving_time = None\n",
    "        self.solver = None\n",
    "\n",
    "    def solve(self):\n",
    "        start_time = time.time()\n",
    "\n",
    "        for plate_height in range(self.min_height, self.max_height):\n",
    "            time_remained = self.time_available - (time.time() - start_time)\n",
    "            if time_remained <= 0:\n",
    "                break\n",
    "\n",
    "            # Defining SATSolver\n",
    "            if self.interrupt:\n",
    "                self.solver = SATSolver(timeout=int(time_remained))\n",
    "            else:\n",
    "                self.solver = SATSolver()\n",
    "\n",
    "\n",
    "            # Defining variables\n",
    "            self.plate = [[[Bool(f\"x_{k}_{j}_{i}\") for i in range(self.n_chips)] for j in range(self.plate_width)] for k in range(plate_height)]\n",
    "            self.rotated = [Bool(f\"r_{k}\") for k in range(self.n_chips)]\n",
    "            self.plate_height = plate_height\n",
    "\n",
    "            # Defining constraints:\n",
    "            # - 1° constraint \n",
    "            overlapping_check = []\n",
    "            for row in self.plate:\n",
    "                for point in row:\n",
    "                    overlapping_check = overlapping_check + at_most_one(point)\n",
    "\n",
    "            # - 2° constraint\n",
    "            placing_check = []\n",
    "            for k in range(self.n_chips):\n",
    "\n",
    "                configurations = []\n",
    "                for y in range(plate_height - self.chips_heights[k] + 1):\n",
    "                    for x in range(self.plate_width - self.chips_widths[k] + 1):\n",
    "                        configurations.append(all_true([self.plate[y + slide_y][x + slide_x][k] for slide_x in range(self.chips_widths[k]) for slide_y in range(self.chips_heights[k])]))\n",
    "                \n",
    "                # If chips can be rotated...\n",
    "                if self.rotation:\n",
    "                    configurations_r = []\n",
    "                    for y in range(plate_height - self.chips_widths[k] + 1):\n",
    "                        for x in range(self.plate_width - self.chips_heights[k] + 1):\n",
    "                            configurations_r.append(all_true([self.plate[y + slide_y][x + slide_x][k] for slide_x in range(self.chips_heights[k]) for slide_y in range(self.chips_widths[k])]))\n",
    "                \n",
    "                    placing_check = placing_check + exactly_one([\n",
    "                        And(exactly_one(configurations) + [Not(self.rotated[k])]),\n",
    "                        And(exactly_one(configurations_r) + [self.rotated[k]])\n",
    "                    ]) \n",
    "                # Otherwise...\n",
    "                else:\n",
    "                    placing_check = placing_check + exactly_one(configurations)\n",
    "\n",
    "            # - 3° constraint \n",
    "            if self.symmetry_breaking: \n",
    "                symmetry_breaking = []\n",
    "                symmetry_breaking = [z3_lex_less_eq([self.plate[i][j] for j in range(self.plate_width) for i in range(plate_height)],\n",
    "                                    [self.plate[i][j] for j in range(self.plate_width) for i in reversed(range(plate_height))], self.n_chips)]\n",
    "                symmetry_breaking += [z3_lex_less_eq([self.plate[i][j] for j in range(self.plate_width) for i in range(plate_height)],\n",
    "                                    [self.plate[i][j] for j in reversed(range(self.plate_width)) for i in range(plate_height)], self.n_chips)]\n",
    "                symmetry_breaking += [z3_lex_less_eq([self.plate[i][j] for j in range(self.plate_width) for i in range(plate_height)],\n",
    "                                    [self.plate[i][j] for j in reversed(range(self.plate_width)) for i in reversed(range(plate_height))], self.n_chips)]\n",
    "            \n",
    "            # Add constraints\n",
    "            self.solver.add_constraint(overlapping_check)\n",
    "            self.solver.add_constraint(placing_check)\n",
    "            if self.symmetry_breaking: # Only if symmetry breaking is applied!\n",
    "                self.solver.add_constraint(symmetry_breaking)\n",
    "\n",
    "            if self.solver.solve() == sat:\n",
    "                self.solving_time = time.time() - start_time\n",
    "                self.solved = True\n",
    "                return True\n",
    "            \n",
    "\n",
    "        self.solving_time = time.time() - start_time\n",
    "        self.solved = False\n",
    "        return False\n",
    "\n",
    "    def evalutate(self):\n",
    "        model = self.solver.get_model()\n",
    "    \n",
    "        circuits_pos = []\n",
    "        for k in range(self.n_chips):\n",
    "            found = False\n",
    "            for x in range(self.plate_height):\n",
    "                for y in range(self.plate_width):\n",
    "                    if not found and model.evaluate(self.plate[x][y][k]):\n",
    "                        if self.rotation:\n",
    "                            if model.evaluate(self.rotated[k]):\n",
    "                                circuits_pos.append((y, x, self.chips_heights[k], self.chips_widths[k]))\n",
    "                            else:\n",
    "                                circuits_pos.append((y, x, self.chips_widths[k], self.chips_heights[k]))\n",
    "                        else:\n",
    "                            circuits_pos.append((y, x, self.chips_widths[k], self.chips_heights[k]))\n",
    "                        found = True\n",
    "\n",
    "        pos_x = [x for x, _, _, _ in circuits_pos]\n",
    "        pos_y = [y for _, y, _, _ in circuits_pos]\n",
    "        chips_w_a = [w for _, _, w, _ in circuits_pos]\n",
    "        chips_h_a = [h for _, _, _, h in circuits_pos]\n",
    "\n",
    "        return pos_x, pos_y, chips_w_a, chips_h_a, self.plate_width, self.plate_height, self.solving_time\n",
    "\n",
    "    def __str__(self):\n",
    "        output = f'Time available: {self.time_available}\\nMin height: {self.min_height}\\nMax height: {self.max_height}\\n\\nWidth of the plate: {self.plate_width}\\nNumber of chips: {self.n_chips}\\n\\n'\n",
    "        for i in range(self.n_chips):\n",
    "            output += f'Size of {i}° chip: ({self.chips_widths[i]}, {self.chips_heights[i]})\\n' \n",
    "        return output "
   ]
  },
  {
   "cell_type": "markdown",
   "metadata": {},
   "source": [
    "## Solve problems"
   ]
  },
  {
   "cell_type": "code",
   "execution_count": 6,
   "metadata": {},
   "outputs": [],
   "source": [
    "NUMBER_OF_INSTANCES = 40\n",
    "TIME_AVAILABLE = 300"
   ]
  },
  {
   "cell_type": "code",
   "execution_count": 7,
   "metadata": {},
   "outputs": [],
   "source": [
    "def solve(rotation, symmetry_breaking, interrupt):\n",
    "\n",
    "    NAME = ('rot_' if rotation else 'not_rot_') + ('sb' if symmetry_breaking else 'not_sb')\n",
    "\n",
    "    OUT_DIRECTORY_PATH = './out/' + NAME + '/'\n",
    "    IMG_DIRECTORY_PATH = './img/' + NAME + '/'\n",
    "    STATS_PATH = './stats/' + NAME + '.csv'\n",
    "\n",
    "    os.makedirs(OUT_DIRECTORY_PATH, exist_ok=True)\n",
    "    os.makedirs(IMG_DIRECTORY_PATH, exist_ok=True)\n",
    "    \n",
    "    for i in range(NUMBER_OF_INSTANCES):\n",
    "\n",
    "        OUT_FILE_PATH = OUT_DIRECTORY_PATH + str(i+1) + '.txt'\n",
    "        IMG_FILE_PATH = IMG_DIRECTORY_PATH + str(i+1) + '.jpg'\n",
    "        \n",
    "        print(f'Instance number: {str(i)}')\n",
    "\n",
    "        if not os.path.exists(OUT_FILE_PATH) or not os.path.exists(IMG_FILE_PATH) or OVERRIDE:\n",
    "            print('Computing solution...')\n",
    "            # Load instance\n",
    "            plate_width, n_chips, chips_widths, chips_heights = utils.load_data(i + 1)\n",
    "\n",
    "            # Solve instance\n",
    "            vlsi_solver = VLSISolver(plate_width, \n",
    "                                    n_chips, \n",
    "                                    chips_widths, \n",
    "                                    chips_heights, \n",
    "                                    rotation = rotation, \n",
    "                                    symmetry_breaking = symmetry_breaking,\n",
    "                                    time_available = TIME_AVAILABLE,\n",
    "                                    interrupt = interrupt)\n",
    "            is_solved = vlsi_solver.solve()\n",
    "            \n",
    "            # Print results\n",
    "            print(f'Problem solved? {is_solved}')\n",
    "            print(f'Time required: {vlsi_solver.solving_time} seconds')\n",
    "\n",
    "            if is_solved:\n",
    "\n",
    "                # Evaluate the solution\n",
    "                pos_x, pos_y, chips_w_a, chips_h_a, plate_width, plate_height, solving_time = vlsi_solver.evalutate()\n",
    "                \n",
    "                # Print solution\n",
    "                utils.plot_device(pos_x, pos_y, chips_w_a, chips_h_a, plate_width, plate_height)\n",
    "                \n",
    "                # Save results\n",
    "                utils.plot_device(pos_x, pos_y, chips_w_a, chips_h_a, plate_width, plate_height, IMG_FILE_PATH)\n",
    "                utils.write_sol(OUT_FILE_PATH, \n",
    "                                plate_width, \n",
    "                                plate_height, \n",
    "                                n_chips, \n",
    "                                chips_widths, \n",
    "                                chips_heights, \n",
    "                                pos_x, \n",
    "                                pos_y)\n",
    "                utils.write_stat_line(STATS_PATH, \n",
    "                                    i, \n",
    "                                    solving_time)\n",
    "            \n",
    "            else:\n",
    "                utils.write_error(OUT_FILE_PATH)\n",
    "                utils.write_stat_line(STATS_PATH,\n",
    "                                      i,\n",
    "                                      -1)\n",
    "\n",
    "\n",
    "        else:\n",
    "            print('Loading solution...')\n",
    "\n",
    "            # Load results\n",
    "            try:\n",
    "                plate_width, plate_height, n_chips, chips_w_a, chips_h_a, pos_x, pos_y = utils.load_sol(OUT_FILE_PATH)\n",
    "                stats = utils.load_stats(STATS_PATH)\n",
    "            \n",
    "                # Print solution\n",
    "                print(f'Time required: {stats.at[i, \"time\"]} seconds')\n",
    "                utils.plot_device(pos_x, pos_y, chips_w_a, chips_h_a, plate_width, plate_height)\n",
    "            except OSError:\n",
    "                print(f'Time exceeded!')\n",
    "                \n",
    "            \n",
    "            \n",
    "\n",
    "            "
   ]
  },
  {
   "cell_type": "markdown",
   "metadata": {},
   "source": [
    "### Without rotation and without symmetry breaking"
   ]
  },
  {
   "cell_type": "code",
   "execution_count": 8,
   "metadata": {},
   "outputs": [],
   "source": [
    "ROTATION = False\n",
    "SYMMETRY_BREAKING = False\n",
    "\n",
    "INTERRUPT = False"
   ]
  },
  {
   "cell_type": "code",
   "execution_count": null,
   "metadata": {},
   "outputs": [
    {
     "name": "stdout",
     "output_type": "stream",
     "text": [
      "Instance number: 0\n",
      "Loading solution...\n",
      "Time required: 0.2374765872955322 seconds\n"
     ]
    },
    {
     "data": {
      "image/png": "[encoded data removed]",
      "text/plain": [
       "<Figure size 432x288 with 1 Axes>"
      ]
     },
     "metadata": {
      "needs_background": "light"
     },
     "output_type": "display_data"
    },
    {
     "name": "stdout",
     "output_type": "stream",
     "text": [
      "Instance number: 1\n",
      "Loading solution...\n",
      "Time required: 0.4698567390441894 seconds\n"
     ]
    },
    {
     "data": {
      "image/png": "[encoded data removed]",
      "text/plain": [
       "<Figure size 432x288 with 1 Axes>"
      ]
     },
     "metadata": {
      "needs_background": "light"
     },
     "output_type": "display_data"
    },
    {
     "name": "stdout",
     "output_type": "stream",
     "text": [
      "Instance number: 2\n",
      "Loading solution...\n",
      "Time required: 0.9711980819702148 seconds\n"
     ]
    },
    {
     "data": {
      "image/png": "[encoded data removed]",
      "text/plain": [
       "<Figure size 432x288 with 1 Axes>"
      ]
     },
     "metadata": {
      "needs_background": "light"
     },
     "output_type": "display_data"
    },
    {
     "name": "stdout",
     "output_type": "stream",
     "text": [
      "Instance number: 3\n",
      "Loading solution...\n",
      "Time required: 2.6311776638031006 seconds\n"
     ]
    },
    {
     "data": {
      "image/png": "[encoded data removed]",
      "text/plain": [
       "<Figure size 432x288 with 1 Axes>"
      ]
     },
     "metadata": {
      "needs_background": "light"
     },
     "output_type": "display_data"
    },
    {
     "name": "stdout",
     "output_type": "stream",
     "text": [
      "Instance number: 4\n",
      "Loading solution...\n",
      "Time required: 3.687833070755005 seconds\n"
     ]
    },
    {
     "data": {
      "image/png": "[encoded data removed]",
      "text/plain": [
       "<Figure size 432x288 with 1 Axes>"
      ]
     },
     "metadata": {
      "needs_background": "light"
     },
     "output_type": "display_data"
    },
    {
     "name": "stdout",
     "output_type": "stream",
     "text": [
      "Instance number: 5\n",
      "Loading solution...\n",
      "Time required: 6.440051794052124 seconds\n"
     ]
    },
    {
     "data": {
      "image/png": "[encoded data removed]",
      "text/plain": [
       "<Figure size 432x288 with 1 Axes>"
      ]
     },
     "metadata": {
      "needs_background": "light"
     },
     "output_type": "display_data"
    },
    {
     "name": "stdout",
     "output_type": "stream",
     "text": [
      "Instance number: 6\n",
      "Loading solution...\n",
      "Time required: 6.600411653518677 seconds\n"
     ]
    },
    {
     "data": {
      "image/png": "[encoded data removed]",
      "text/plain": [
       "<Figure size 432x288 with 1 Axes>"
      ]
     },
     "metadata": {
      "needs_background": "light"
     },
     "output_type": "display_data"
    },
    {
     "name": "stdout",
     "output_type": "stream",
     "text": [
      "Instance number: 7\n",
      "Loading solution...\n",
      "Time required: 10.464125156402588 seconds\n"
     ]
    },
    {
     "data": {
      "image/png": "[encoded data removed]",
      "text/plain": [
       "<Figure size 432x288 with 1 Axes>"
      ]
     },
     "metadata": {
      "needs_background": "light"
     },
     "output_type": "display_data"
    },
    {
     "name": "stdout",
     "output_type": "stream",
     "text": [
      "Instance number: 8\n",
      "Loading solution...\n",
      "Time required: 14.292710065841677 seconds\n"
     ]
    },
    {
     "data": {
      "image/png": "[encoded data removed]",
      "text/plain": [
       "<Figure size 432x288 with 1 Axes>"
      ]
     },
     "metadata": {
      "needs_background": "light"
     },
     "output_type": "display_data"
    },
    {
     "name": "stdout",
     "output_type": "stream",
     "text": [
      "Instance number: 9\n",
      "Loading solution...\n",
      "Time required: 23.752414226531982 seconds\n"
     ]
    },
    {
     "data": {
      "image/png": "[encoded data removed]",
      "text/plain": [
       "<Figure size 432x288 with 1 Axes>"
      ]
     },
     "metadata": {
      "needs_background": "light"
     },
     "output_type": "display_data"
    },
    {
     "name": "stdout",
     "output_type": "stream",
     "text": [
      "Instance number: 10\n",
      "Loading solution...\n",
      "Time required: 217.61342453956604 seconds\n"
     ]
    },
    {
     "data": {
      "image/png": "[encoded data removed]",
      "text/plain": [
       "<Figure size 432x288 with 1 Axes>"
      ]
     },
     "metadata": {
      "needs_background": "light"
     },
     "output_type": "display_data"
    },
    {
     "name": "stdout",
     "output_type": "stream",
     "text": [
      "Instance number: 11\n",
      "Loading solution...\n",
      "Time required: 281.7079145908356 seconds\n"
     ]
    },
    {
     "data": {
      "image/png": "[encoded data removed]",
      "text/plain": [
       "<Figure size 432x288 with 1 Axes>"
      ]
     },
     "metadata": {
      "needs_background": "light"
     },
     "output_type": "display_data"
    },
    {
     "name": "stdout",
     "output_type": "stream",
     "text": [
      "Instance number: 12\n",
      "Loading solution...\n",
      "Time required: 115.0432062149048 seconds\n"
     ]
    },
    {
     "data": {
      "image/png": "[encoded data removed]",
      "text/plain": [
       "<Figure size 432x288 with 1 Axes>"
      ]
     },
     "metadata": {
      "needs_background": "light"
     },
     "output_type": "display_data"
    },
    {
     "name": "stdout",
     "output_type": "stream",
     "text": [
      "Instance number: 13\n",
      "Loading solution...\n",
      "Time required: 412.4419059753418 seconds\n"
     ]
    },
    {
     "data": {
      "image/png": "[encoded data removed]",
      "text/plain": [
       "<Figure size 432x288 with 1 Axes>"
      ]
     },
     "metadata": {
      "needs_background": "light"
     },
     "output_type": "display_data"
    },
    {
     "name": "stdout",
     "output_type": "stream",
     "text": [
      "Instance number: 14\n",
      "Loading solution...\n",
      "Time required: 490.29599714279175 seconds\n"
     ]
    },
    {
     "data": {
      "image/png": "[encoded data removed]",
      "text/plain": [
       "<Figure size 432x288 with 1 Axes>"
      ]
     },
     "metadata": {
      "needs_background": "light"
     },
     "output_type": "display_data"
    },
    {
     "name": "stdout",
     "output_type": "stream",
     "text": [
      "Instance number: 15\n",
      "Computing solution...\n",
      "Problem solved? True\n",
      "Time required: 199.4993815422058 seconds\n"
     ]
    },
    {
     "data": {
      "image/png": "[encoded data removed]",
      "text/plain": [
       "<Figure size 432x288 with 1 Axes>"
      ]
     },
     "metadata": {
      "needs_background": "light"
     },
     "output_type": "display_data"
    },
    {
     "name": "stdout",
     "output_type": "stream",
     "text": [
      "Instance number: 16\n",
      "Computing solution...\n",
      "Problem solved? True\n",
      "Time required: 178.18179154396057 seconds\n"
     ]
    },
    {
     "data": {
      "text/plain": [
       "<Figure size 432x288 with 0 Axes>"
      ]
     },
     "metadata": {},
     "output_type": "display_data"
    },
    {
     "data": {
      "image/png": "[encoded data removed]",
      "text/plain": [
       "<Figure size 432x288 with 1 Axes>"
      ]
     },
     "metadata": {
      "needs_background": "light"
     },
     "output_type": "display_data"
    },
    {
     "name": "stdout",
     "output_type": "stream",
     "text": [
      "Instance number: 17\n",
      "Computing solution...\n"
     ]
    }
   ],
   "source": [
    "solve(ROTATION, SYMMETRY_BREAKING, INTERRUPT)"
   ]
  },
  {
   "cell_type": "markdown",
   "metadata": {},
   "source": [
    "### With rotation and without symmetry breaking"
   ]
  },
  {
   "cell_type": "code",
   "execution_count": null,
   "metadata": {},
   "outputs": [],
   "source": [
    "ROTATION = True\n",
    "SYMMETRY_BREAKING = False\n",
    "\n",
    "INTERRUPT = False"
   ]
  },
  {
   "cell_type": "code",
   "execution_count": null,
   "metadata": {},
   "outputs": [],
   "source": [
    "solve(ROTATION, SYMMETRY_BREAKING, INTERRUPT)"
   ]
  },
  {
   "cell_type": "markdown",
   "metadata": {},
   "source": [
    "### Without rotation and with symmetry breaking"
   ]
  },
  {
   "cell_type": "code",
   "execution_count": null,
   "metadata": {},
   "outputs": [],
   "source": [
    "ROTATION = False\n",
    "SYMMETRY_BREAKING = False\n",
    "\n",
    "INTERRUPT = False"
   ]
  },
  {
   "cell_type": "code",
   "execution_count": null,
   "metadata": {},
   "outputs": [],
   "source": [
    "solve(ROTATION, SYMMETRY_BREAKING, INTERRUPT)"
   ]
  },
  {
   "cell_type": "markdown",
   "metadata": {},
   "source": [
    "### With rotation and with symmetry breaking"
   ]
  },
  {
   "cell_type": "code",
   "execution_count": null,
   "metadata": {},
   "outputs": [],
   "source": [
    "ROTATION = True\n",
    "SYMMETRY_BREAKING = True\n",
    "\n",
    "INTERRUPT = False"
   ]
  },
  {
   "cell_type": "code",
   "execution_count": null,
   "metadata": {},
   "outputs": [],
   "source": [
    "solve(ROTATION, SYMMETRY_BREAKING, INTERRUPT)"
   ]
  }
 ],
 "metadata": {
  "kernelspec": {
   "display_name": "Python 3",
   "language": "python",
   "name": "python3"
  },
  "language_info": {
   "codemirror_mode": {
    "name": "ipython",
    "version": 3
   },
   "file_extension": ".py",
   "mimetype": "text/x-python",
   "name": "python",
   "nbconvert_exporter": "python",
   "pygments_lexer": "ipython3",
   "version": "3.7.7"
  },
  "vscode": {
   "interpreter": {
    "hash": "a501e7e45fb98c8e75c44e4bfb5dbf829f8562d3d17841b258dfb433fc9274ae"
   }
  }
 },
 "nbformat": 4,
 "nbformat_minor": 4
}
