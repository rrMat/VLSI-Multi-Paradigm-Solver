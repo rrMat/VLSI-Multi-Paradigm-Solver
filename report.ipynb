{
 "cells": [
  {
   "cell_type": "markdown",
   "metadata": {},
   "source": [
    "# CP (Constraint Programming)"
   ]
  },
  {
   "cell_type": "markdown",
   "metadata": {},
   "source": [
    "### Imports and preliminary functions"
   ]
  },
  {
   "cell_type": "code",
   "execution_count": null,
   "metadata": {},
   "outputs": [],
   "source": [
    "%pip install ipympl"
   ]
  },
  {
   "cell_type": "code",
   "execution_count": null,
   "metadata": {},
   "outputs": [],
   "source": [
    "#basilar import and routing\n",
    "import pandas as pd\n",
    "import matplotlib.pyplot as plt\n",
    "import matplotlib.widgets as widgets\n",
    "import matplotlib.patches as mpatches\n",
    "import os\n",
    "import numpy as np\n",
    "import matplotlib.image as mpimg\n",
    "%matplotlib widget\n",
    "\n",
    "std_path = os.path.join(\n",
    "    os.path.dirname('__file__'),\n",
    "    'CP/out/out_data_std.csv'\n",
    ")\n",
    "\n",
    "cum_path = os.path.join(\n",
    "    os.path.dirname('__file__'),\n",
    "    'CP/out/out_data_cum.csv'\n",
    ")\n",
    "\n",
    "_1s_path = os.path.join(\n",
    "    os.path.dirname('__file__'),\n",
    "    'CP/out/out_data_1s.csv'\n",
    ")\n",
    "\n",
    "_2s_path = os.path.join(\n",
    "    os.path.dirname('__file__'),\n",
    "    'CP/out/out_data_2s.csv'\n",
    ")\n",
    "\n"
   ]
  },
  {
   "cell_type": "code",
   "execution_count": null,
   "metadata": {},
   "outputs": [],
   "source": [
    "#loading data info\n",
    "std_data = pd.read_csv(std_path)\n",
    "cum_data = pd.read_csv(cum_path)\n",
    "_1s_data = pd.read_csv(_1s_path)\n",
    "_2s_data = pd.read_csv(_1s_path)"
   ]
  },
  {
   "cell_type": "code",
   "execution_count": null,
   "metadata": {},
   "outputs": [],
   "source": [
    "#creating color and patches (for chart legend) based on values (if the execution time is over 5 min the bar will be displayed in gray)\n",
    "colors_std = [{p>=300: (0.5,0.5,0.5, 0.2), p<300: '#522A27'}[True] for p in std_data[\"solve time\"].to_list()]\n",
    "colors_1s = [{p>=300: (0.5,0.5,0.5, 0.2), p<300: '#C73E1D'}[True] for p in _1s_data[\"solve time\"].to_list()]\n",
    "colors_cum = [{p>=300: (0.5,0.5,0.5, 0.2), p<300: '#C59849'}[True] for p in _2s_data[\"solve time\"].to_list()]\n",
    "colors_2s = [{p>=300: (0.5,0.5,0.5, 0.2), p<300: '#AAC0AA'}[True] for p in _2s_data[\"solve time\"].to_list()]\n",
    "std_patch = mpatches.Patch(color='#522A27', label=\"Standard Solver\")\n",
    "cum_patch = mpatches.Patch(color='#C59849', label=\"Cumulative constraint solver\")\n",
    "_1s_patch = mpatches.Patch(color='#C73E1D', label=\"Single simmetry br. solver\")\n",
    "_2s_patch = mpatches.Patch(color='#AAC0AA', label=\"Double simmetry br. solver\")\n",
    "over5_patch = mpatches.Patch(color=(0.5,0.5,0.5,0.2), label=\"Over 5 min execution\")"
   ]
  },
  {
   "cell_type": "code",
   "execution_count": null,
   "metadata": {},
   "outputs": [],
   "source": [
    "#calculating total and mean execution time for each solver\n",
    "total_std_time = sum(std_data['solve time'].to_list())\n",
    "total_cum_time = sum(cum_data['solve time'].to_list())\n",
    "total_1s_time = sum(_1s_data['solve time'].to_list())\n",
    "total_2s_time = sum(_2s_data['solve time'].to_list())\n",
    "mean_std = total_std_time/40\n",
    "mean_cum = total_cum_time/40\n",
    "mean_1s = total_1s_time/40\n",
    "mean_2s = total_2s_time/40"
   ]
  },
  {
   "cell_type": "markdown",
   "metadata": {},
   "source": [
    "## Introduction\n"
   ]
  },
  {
   "cell_type": "markdown",
   "metadata": {},
   "source": [
    "This section of the project is dedicated to the resolution of the VLSI **(Very Large Scale Integration)** problem throught CP **(Constraint Programming)**, in particular with the use of *Minizinc* constraint programming language.\n",
    "The first thing we want to do is to formalize our problem into a more solid mathematical structure in order to have all the information needed to describe all the possible constraint appliable to it. A VLSI problem is defined, in our formulation, by four main elements:\n",
    "\n",
    "- $w$ which represents the plate width\n",
    "- $n$ which represents the number of chips to place on the plate\n",
    "- $widths$ the widths of the chips. Since $widths$ is an array of element we're refering $widths_i$ as the width of the $i-th$ chip\n",
    "- $heights$ the heights of the chips. Again, we're refering $heights_i$ as the height of the $i-th$ chip\n",
    "\n",
    "Those four elements are the instances of our problem, the input element that the solver needs to analyze in order to find a solution. One more thing we need to do is to represent the output variable and their domains\n",
    "\n",
    "#### **Plate height**\n",
    "$h$ represent the estimated height of the plate. The domain of this variable is more complicated to exploit since it represent the actual value we want to minimize. We found different possibilities and, in the end, choose the best performing one:\n",
    "\n",
    "- **Lower Bound**:\n",
    "    - *Maximum of chips heights*: one possibility is to set the minimum height to the maximum over the chips heights. This definition clearly holds, cause plate heigth could never be smaller than the highest chip, but is not really time effective cause, generally, the minimum height of the plate is bigger and this leads to a bigger domain for the variable.\n",
    "\n",
    "    - *Weighted Height*: Considering the constraint over the plate width, we could conclude that the minimum height of the plate is a direct function of the widths of the chips. A possible solution for the minimum height, so, is to consider the ration between the widht of the $i-th$ chip and the plate width as follows:\n",
    "    \\begin{equation*}\n",
    "    ratio = \\frac{widths_i}{w}\n",
    "    \\end{equation*}\n",
    "    and then consider the sum of the weighted heights:\n",
    "    \\begin{equation}\n",
    "    min_h = \\sum_{i=0}^{n} heights_i \\cdot ratio\n",
    "    \\end{equation}\n",
    "    This solution gives results much closer to the actual height.\n",
    "\n",
    "    - *Height of the total area*: another possibility is to consider the minimum possible height as the height of the rectangle that has exactly the same area of the sum of the chips's areas, formally:\n",
    "    \\begin{equation*}\n",
    "    min_h = \\frac{\\sum_{i=0}^{n} widths_i \\cdot heights_i}{w}\n",
    "    \\end{equation*}\n",
    "    This definition is actually equivalent to one given before (we could derive one from the other), but it's much simpler to implement, so we decided to choose this one\n",
    "\n",
    "- **Upper Bound**\n",
    "  We actually have less opportunity around the upperbound. For sure we know that the maximum obtainable height, in the case of all pieces stacked togheter, is the sum of all the chips's heights. We could try to limit the maximum height, again, based on the width of the various pieces (we reach the maximum height only if all the chips have a width which is exclusive bigger than the plate width), but none of them seemed to be effetive in any ways\n",
    "\n",
    "\n",
    "\n",
    "#### **Position x**\n",
    "$x$ represents the bottom left x coordinates of the chips. Even in this case $x$ represents an array of all the position of the chips, so we're referring $x_i$ as the position of the $i-th$ chip. \n",
    "The domain of this variable could be expressed as $(0, w)$, since the position x of any chip should not overlap the width of the plate. But, since all the chips have a specific width, we could reduce the domain to the set:\n",
    "\n",
    "$(0, w-min(widths))$\n",
    "\n",
    "because no chip are small enough to be placed in the $(w-min(widths), w)$ without overlapping the width boundary.\n",
    "\n",
    "\n",
    "#### **Position y**\n",
    "$y$ represent the bottom left y coordinates of the chips. Again $y$ represents an array of all the coordinates, so we're refering $y_i$ as the bottom left y coordinate of the $i-th$ chip. We apply the same reasoning we've seen before for the domain, so the $y$ domain is:\n",
    "\n",
    "$(0, h-min(heights))$\n"
   ]
  },
  {
   "cell_type": "markdown",
   "metadata": {},
   "source": [
    "## Minizinc Solvers Analisys 1\n",
    "### No rotation Allowed"
   ]
  },
  {
   "cell_type": "markdown",
   "metadata": {},
   "source": []
  },
  {
   "cell_type": "code",
   "execution_count": null,
   "metadata": {
    "tags": []
   },
   "outputs": [],
   "source": [
    "#interactive chart 1\n",
    "width=0.2\n",
    "fig, ax = plt.subplots(figsize=(11,5))\n",
    "fig.set_label(\"Solving time comparisons between solvers\")\n",
    "\n",
    "index = np.arange(40)\n",
    "ax.bar(index- width/2, std_data['solve time'].to_list(), width, color=colors_std, label=\"STD\")\n",
    "ax.bar(index - width/4, cum_data['solve time'].to_list(), width, color=colors_cum, label=\"CUM\")\n",
    "ax.bar(index + width/4, _1s_data['solve time'].to_list(), width, color=colors_1s, label=\"1S\")\n",
    "ax.bar(index + width/2, _2s_data['solve time'].to_list(), width, color=colors_2s, label=\"2S\")\n",
    "\n",
    "\n",
    "ax_checks = fig.add_axes([0.9, 0.68, 0.1, 0.2])\n",
    "labels = [bar.get_label() for bar in ax.containers]\n",
    "checks = widgets.CheckButtons(\n",
    "    ax_checks,\n",
    "    labels,\n",
    "    [True, True, True]      \n",
    ")\n",
    "\n",
    "def checked(label):\n",
    "    index = labels.index(label)\n",
    "    for rect in ax.containers[index]:\n",
    "        rect.set_visible(not rect.get_visible())   \n",
    "\n",
    "checks.on_clicked(checked)\n",
    "\n",
    "\n",
    "fig.subplots_adjust(left=0.16, right=0.89)\n",
    "\n",
    "ax_ylim = fig.add_axes([0.05, 0.11, 0.0225, 0.77])\n",
    "ylim_slider = widgets.Slider(\n",
    "    ax=ax_ylim,\n",
    "    label='Time Limit',\n",
    "    valmin=2,\n",
    "    valmax=300,\n",
    "    valinit=100,\n",
    "    orientation='vertical'\n",
    ")\n",
    "\n",
    "def update_slider(val):\n",
    "    ax.set_ylim(0, ylim_slider.val)\n",
    "    fig.canvas.draw_idle()\n",
    "\n",
    "ylim_slider.on_changed(update_slider)\n",
    "\n",
    "ax.set_ylabel(\"Solve Time\")\n",
    "ax.set_xlabel(\"Instances\")\n",
    "ax.set_ylim(0,100)\n",
    "ax.legend(handles=[std_patch, cum_patch, _1s_patch, _2s_patch, over5_patch])\n",
    "\n",
    "plt.show()"
   ]
  },
  {
   "cell_type": "code",
   "execution_count": 7,
   "metadata": {},
   "outputs": [
    {
     "data": {
      "application/vnd.jupyter.widget-view+json": {
       "model_id": "4329e76f676040019ef70de58e0aa9ba",
       "version_major": 2,
       "version_minor": 0
      },
      "image/png": "[encoded data removed]",
      "text/html": [
       "\n",
       "            <div style=\"display: inline-block;\">\n",
       "                <div class=\"jupyter-widgets widget-label\" style=\"text-align: center;\">\n",
       "                    Figure\n",
       "                </div>\n",
       "                <img src='data:image/png;base64,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' width=1100.0/>\n",
       "            </div>\n",
       "        "
      ],
      "text/plain": [
       "Canvas(toolbar=Toolbar(toolitems=[('Home', 'Reset original view', 'home', 'home'), ('Back', 'Back to previous …"
      ]
     },
     "metadata": {},
     "output_type": "display_data"
    }
   ],
   "source": [
    "fig, ax = plt.subplots(2,2, figsize=(11,3.5))\n",
    "fig.set_label(\"Solutions visualization\")\n",
    "fig.subplots_adjust(top=1.2)\n",
    "img1 = mpimg.imread(\"CP/img/STd_IMG/device-1.png\")\n",
    "ax[0][0].imshow(img1)\n",
    "ax[0][0].set_title(\"STD solver entry 1\")\n",
    "\n",
    "img2 = mpimg.imread(\"CP/img/CUM_IMG/device-1.png\")\n",
    "ax[0][1].imshow(img2)\n",
    "ax[0][1].set_title(\"CUM solver entry 1\")\n",
    "\n",
    "img3 = mpimg.imread(\"CP/img/1S_IMG/device-1.png\")\n",
    "ax[1][0].imshow(img3)\n",
    "ax[1][0].set_title(\"1S solve entry 1\")\n",
    "\n",
    "img4 = mpimg.imread(\"CP/img/2SS_IMG/device-1.png\")\n",
    "ax[1][1].imshow(img4)\n",
    "ax[1][1].set_title(\"2S solve entry 1\")\n",
    "\n",
    "prev_ax = fig.add_axes([0.69,0.2,0.1,0.05])\n",
    "next_ax = fig.add_axes([0.8,0.2,0.1,0.05])\n",
    "prev_button = widgets.Button(prev_ax, \"Previous\")\n",
    "next_button = widgets.Button(next_ax, \"Next\")\n",
    "\n",
    "class Index:\n",
    "    ind = 1\n",
    "\n",
    "    def next(self, event):\n",
    "        if self.ind != 40:\n",
    "            self.ind += 1\n",
    "            img1 = mpimg.imread(\"CP/img/STANDARD_IMG/device-\" + str(self.ind) + \".png\")\n",
    "            ax[0][0].imshow(img1)\n",
    "            ax[0][0].set_title(\"STD solver entry {}\".format(self.ind))\n",
    "\n",
    "            img2 = mpimg.imread(\"CP/img/CUM_IMG/device-\" + str(self.ind) + \".png\")\n",
    "            ax[0][1].imshow(img2)\n",
    "            ax[0][1].set_title(\"CUM solver entry {}\".format(self.ind))\n",
    "\n",
    "            img3 = mpimg.imread(\"CP/img/1S_IMG/device-\" + str(self.ind) + \".png\")\n",
    "            ax[1][0].imshow(img3)\n",
    "            ax[1][0].set_title(\"1S solver entry {}\".format(self.ind))\n",
    "\n",
    "            img4 = mpimg.imread(\"CP/img/2S_IMG/device-\" + str(self.ind) + \".png\")\n",
    "            ax[1][1].imshow(img3)\n",
    "            ax[1][1].set_title(\"2S solver entry {}\".format(self.ind))\n",
    "        \n",
    "\n",
    "    def prev(self, event):\n",
    "        if self.ind != 1:\n",
    "            self.ind -= 1\n",
    "            img1 = mpimg.imread(\"CP/img/STANDARD_IMG/device-\" + str(self.ind) + \".png\")\n",
    "            ax[0][0].imshow(img1)\n",
    "            ax[0][0].set_title(\"STD solver entry {}\".format(self.ind))\n",
    "\n",
    "            img2 = mpimg.imread(\"CP/img/CUM_IMG/device-\" + str(self.ind) + \".png\")\n",
    "            ax[0][1].imshow(img2)\n",
    "            ax[0][1].set_title(\"CUM solver entry {}\".format(self.ind))\n",
    "\n",
    "            img3 = mpimg.imread(\"CP/img/1S_IMG/device-\" + str(self.ind) + \".png\")\n",
    "            ax[1][0].imshow(img3)\n",
    "            ax[1][0].set_title(\"1S solver entry {}\".format(self.ind))\n",
    "\n",
    "            img4 = mpimg.imread(\"CP/img/2S_IMG/device-\" + str(self.ind) + \".png\")\n",
    "            ax[1][1].imshow(img3)\n",
    "            ax[1][1].set_title(\"2S solver entry {}\".format(self.ind))\n",
    "\n",
    "\n",
    "   \n",
    "callback = Index()\n",
    "prev_button.on_clicked(callback.prev)\n",
    "next_button.on_clicked(callback.next)\n",
    "plt.show()\n"
   ]
  },
  {
   "cell_type": "markdown",
   "metadata": {},
   "source": [
    "## Minizinc Solvers Analisys 2\n",
    "### Rotation Allowed"
   ]
  }
 ],
 "metadata": {
  "interpreter": {
   "hash": "54605780d8beb6c1a92b7368e6e412784a56cc9ab59d3ca13594bf20f5963f92"
  },
  "kernelspec": {
   "display_name": "Python 3.9.7 64-bit",
   "language": "python",
   "name": "python3"
  },
  "language_info": {
   "codemirror_mode": {
    "name": "ipython",
    "version": 3
   },
   "file_extension": ".py",
   "mimetype": "text/x-python",
   "name": "python",
   "nbconvert_exporter": "python",
   "pygments_lexer": "ipython3",
   "version": "3.9.7"
  },
  "orig_nbformat": 4,
  "vscode": {
   "interpreter": {
    "hash": "54605780d8beb6c1a92b7368e6e412784a56cc9ab59d3ca13594bf20f5963f92"
   }
  }
 },
 "nbformat": 4,
 "nbformat_minor": 2
}
