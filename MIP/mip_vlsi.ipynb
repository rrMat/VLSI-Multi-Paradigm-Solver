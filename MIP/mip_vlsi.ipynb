{
 "cells": [
  {
   "cell_type": "markdown",
   "metadata": {
    "id": "FXf9q91b4KqO"
   },
   "source": [
    "# Mixed-Integer Linear Programming\n",
    "\n",
    "Importing gurobi MIP solver and other required libraries"
   ]
  },
  {
   "cell_type": "code",
   "execution_count": 15,
   "metadata": {
    "colab": {
     "base_uri": "https://localhost:8080/"
    },
    "id": "uh3uzxcK3re-",
    "outputId": "8c03c436-3dc6-45db-a3dd-00e8f7f6e78e",
    "pycharm": {
     "is_executing": true
    }
   },
   "outputs": [],
   "source": [
    "import gurobipy as gp\n",
    "from gurobipy import GRB\n",
    "import numpy as np\n",
    "import os\n",
    "\n",
    "from utils.utils import load_data, plot_device"
   ]
  },
  {
   "cell_type": "markdown",
   "metadata": {},
   "source": [
    "## Variant 1 - no rotation"
   ]
  },
  {
   "cell_type": "code",
   "execution_count": 24,
   "metadata": {
    "pycharm": {
     "is_executing": true
    }
   },
   "outputs": [],
   "source": [
    "def mip_solve_1(w, n, widths, heights):\n",
    "    # Create a new model\n",
    "    m = gp.Model('vlsi_v1')\n",
    "    \n",
    "    # Create variables\n",
    "    coordinates_x = [m.addVar(vtype='I', name=f'x_{i}') for i in range(n)]\n",
    "    coordinates_y = [m.addVar(vtype='I', name=f'y_{i}') for i in range(n)]\n",
    "    max_heights = [m.addVar(vtype='I', name=f'max_y_{i}') for i in range(n)]\n",
    "    max_height = m.addVar(vtype='I', name='max_height')\n",
    "    \n",
    "    # Add constraints\n",
    "    # Maximum heights\n",
    "    m.addConstrs((max_heights[i] == coordinates_y[i] + heights[i] for i in range(n)))\n",
    "    # Maximum height\n",
    "    m.addConstr(max_height == gp.max_(max_heights))\n",
    "    \n",
    "    # Total width constraint\n",
    "    for i in range(n):\n",
    "        m.addConstr(coordinates_x[i] + widths[i] <= w)\n",
    "    \n",
    "    # No overlap constraints\n",
    "    for i in range(n):\n",
    "        for j in range(i + 1, n):\n",
    "            j_is_left = m.addVar(vtype='B', name=f'j_is_left_{i}_{j}')\n",
    "            m.addGenConstrIndicator(j_is_left, True, coordinates_x[i] >= coordinates_x[j] + widths[j])\n",
    "\n",
    "            j_is_right = m.addVar(vtype='B', name=f'j_is_right_{i}_{j}')\n",
    "            m.addGenConstrIndicator(j_is_right, True, coordinates_x[i] + widths[i] <= coordinates_x[j])\n",
    "\n",
    "            not_overlaps_horizontal = m.addVar(vtype='B', name=f'not_overlaps_horizontal_{i}_{j}')\n",
    "            m.addGenConstrIndicator(not_overlaps_horizontal, True, j_is_left + j_is_right >= 1)\n",
    "\n",
    "            j_is_down = m.addVar(vtype='B', name=f'j_is_down_{i}_{j}')\n",
    "            m.addGenConstrIndicator(j_is_down, True, coordinates_y[i] >= coordinates_y[j] + heights[j])\n",
    "\n",
    "            j_is_up = m.addVar(vtype='B', name=f'j_is_up_{i}_{j}')\n",
    "            m.addGenConstrIndicator(j_is_up, True, coordinates_y[i] + heights[i] <= coordinates_y[j])\n",
    "\n",
    "            not_overlaps_vertical = m.addVar(vtype='B', name=f'not_overlaps_vertical_{i}_{j}')\n",
    "            m.addGenConstrIndicator(not_overlaps_vertical, True, j_is_down + j_is_up >= 1)\n",
    "\n",
    "            m.addConstr(not_overlaps_horizontal + not_overlaps_vertical >= 1)\n",
    "    \n",
    "    # Set objective function\n",
    "    m.setObjective(max_height, gp.GRB.MINIMIZE)\n",
    "    \n",
    "    # Solve it!\n",
    "    m.Params.output_flag = 0\n",
    "    m.Params.time_limit = 300.0\n",
    "    m.optimize()\n",
    "    \n",
    "    return m.getAttr('runtime'), [v.X for v in coordinates_x], [v.X for v in coordinates_y], max_height.X\n"
   ]
  },
  {
   "cell_type": "code",
   "execution_count": 25,
   "metadata": {},
   "outputs": [],
   "source": [
    "def execute(instance, save_sol=True, write_stats=True, display_image=True, save_image=True):\n",
    "    path = os.path.abspath('')\n",
    "    \n",
    "    w, n, widths, heights = load_data(instance)\n",
    "    \n",
    "    runtime, c_x, c_y, h = mip_solve_1(w, n, widths, heights)\n",
    "    print(f'Height of the silicon plate: {h}')\n",
    "    \n",
    "    #if save_sol:\n",
    "        #write_sol(path + f'/out/{instance}.txt', w, n, widths, heights, c_x, c_y, h)\n",
    "    \n",
    "    if display_image:\n",
    "        plot_device(c_x, c_y, widths, heights, max(w, h), max(w, h))\n",
    "    \n",
    "    if save_image:\n",
    "        plot_device(c_x, c_y, widths, heights, max(w, h), max(w, h), path + f'/img/{instance}.png')\n",
    "    \n",
    "    return runtime\n",
    "        "
   ]
  },
  {
   "cell_type": "code",
   "execution_count": 28,
   "metadata": {},
   "outputs": [
    {
     "name": "stdout",
     "output_type": "stream",
     "text": [
      "Height of the silicon plate: 8.0\n",
      "Execution time: 0.012998580932617188\n"
     ]
    },
    {
     "data": {
      "text/plain": [
       "<Figure size 640x480 with 0 Axes>"
      ]
     },
     "metadata": {},
     "output_type": "display_data"
    }
   ],
   "source": [
    "r = execute(1, display_image=False)\n",
    "\n",
    "print(f'Execution time: {r}')"
   ]
  },
  {
   "cell_type": "code",
   "execution_count": null,
   "metadata": {},
   "outputs": [],
   "source": []
  }
 ],
 "metadata": {
  "colab": {
   "authorship_tag": "ABX9TyNhoLiZJ4gPrgofbsWYZ1d3",
   "include_colab_link": true,
   "provenance": []
  },
  "kernelspec": {
   "display_name": "Python 3 (ipykernel)",
   "language": "python",
   "name": "python3"
  },
  "language_info": {
   "codemirror_mode": {
    "name": "ipython",
    "version": 3
   },
   "file_extension": ".py",
   "mimetype": "text/x-python",
   "name": "python",
   "nbconvert_exporter": "python",
   "pygments_lexer": "ipython3",
   "version": "3.9.12"
  }
 },
 "nbformat": 4,
 "nbformat_minor": 1
}
