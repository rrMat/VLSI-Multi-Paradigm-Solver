{
 "cells": [
  {
   "cell_type": "markdown",
   "metadata": {
    "id": "FXf9q91b4KqO"
   },
   "source": [
    "# Mixed-Integer Linear Programming\n",
    "\n",
    "Importing gurobi MIP solver and other required libraries"
   ]
  },
  {
   "cell_type": "code",
   "execution_count": 6,
   "metadata": {
    "colab": {
     "base_uri": "https://localhost:8080/"
    },
    "id": "uh3uzxcK3re-",
    "outputId": "8c03c436-3dc6-45db-a3dd-00e8f7f6e78e",
    "pycharm": {
     "is_executing": true
    }
   },
   "outputs": [],
   "source": [
    "import gurobipy as gp\n",
    "from gurobipy import GRB\n",
    "import numpy as np\n",
    "import os\n",
    "import csv\n",
    "\n",
    "from utils.utils import load_data, plot_device, write_sol, write_stat_line"
   ]
  },
  {
   "cell_type": "markdown",
   "metadata": {},
   "source": [
    "## Variant 1 - no rotation"
   ]
  },
  {
   "cell_type": "code",
   "execution_count": 34,
   "metadata": {},
   "outputs": [],
   "source": [
    "models = {\n",
    "    \"model_with_bounds\": bounds,\n",
    "    \"strong_bound\": strong_bounds,\n",
    "    \"test\": strong_bounds\n",
    "}"
   ]
  },
  {
   "cell_type": "code",
   "execution_count": 16,
   "metadata": {},
   "outputs": [],
   "source": [
    "def bounds(w, n, widths, heights, verbose=0):\n",
    "    # Create a new model\n",
    "    m = gp.Model('vlsi_v1')\n",
    "\n",
    "    # Calculatin bounds\n",
    "    chip_height_lb = min(heights)\n",
    "    height_lb = (np.array(widths)@np.array(heights)) / w\n",
    "    height_ub = sum(heights)\n",
    "    x_ub = w - min(widths)\n",
    "    y_ub = height_ub - min(heights)\n",
    "\n",
    "    # Create variables\n",
    "    coordinates_x = [m.addVar(vtype='I', name=f'x_{i}', ub=x_ub) for i in range(n)]\n",
    "    coordinates_y = [m.addVar(vtype='I', name=f'y_{i}', ub=y_ub) for i in range(n)]\n",
    "    max_heights = [m.addVar(vtype='I', name=f'max_y_{i}', lb=chip_height_lb, ub=height_ub) for i in range(n)]\n",
    "    max_height = m.addVar(vtype='I', name='max_height', lb=height_lb, ub=height_ub)\n",
    "\n",
    "    # Add constraints\n",
    "    # Maximum heights\n",
    "    m.addConstrs((max_heights[i] == coordinates_y[i] + heights[i] for i in range(n)))\n",
    "    # Maximum height\n",
    "    m.addConstr(max_height == gp.max_(max_heights))\n",
    "\n",
    "    # Total width constraint\n",
    "    for i in range(n):\n",
    "        m.addConstr(coordinates_x[i] + widths[i] <= w)\n",
    "\n",
    "    # No overlap constraints\n",
    "    for i in range(n):\n",
    "        for j in range(i + 1, n):\n",
    "            j_is_left = m.addVar(vtype='B', name=f'j_is_left_{i}_{j}')\n",
    "            m.addGenConstrIndicator(j_is_left, True, coordinates_x[i] >= coordinates_x[j] + widths[j])\n",
    "\n",
    "            j_is_right = m.addVar(vtype='B', name=f'j_is_right_{i}_{j}')\n",
    "            m.addGenConstrIndicator(j_is_right, True, coordinates_x[i] + widths[i] <= coordinates_x[j])\n",
    "\n",
    "            j_is_down = m.addVar(vtype='B', name=f'j_is_down_{i}_{j}')\n",
    "            m.addGenConstrIndicator(j_is_down, True, coordinates_y[i] >= coordinates_y[j] + heights[j])\n",
    "\n",
    "            j_is_up = m.addVar(vtype='B', name=f'j_is_up_{i}_{j}')\n",
    "            m.addGenConstrIndicator(j_is_up, True, coordinates_y[i] + heights[i] <= coordinates_y[j])\n",
    "\n",
    "            m.addConstr(j_is_left + j_is_right + j_is_down + j_is_up >= 1)\n",
    "\n",
    "    # Set objective function\n",
    "    m.setObjective(max_height, gp.GRB.MINIMIZE)\n",
    "\n",
    "    # Solve it!\n",
    "    m.Params.output_flag = verbose\n",
    "    m.Params.time_limit = 300.0\n",
    "    m.optimize()\n",
    "\n",
    "    return m.getAttr('runtime'), [v.X for v in coordinates_x], [v.X for v in coordinates_y], max_height.X\n"
   ]
  },
  {
   "cell_type": "code",
   "execution_count": 31,
   "metadata": {},
   "outputs": [],
   "source": [
    "def strong_bounds(w, n, widths, heights, verbose=0):\n",
    "    # Create a new model\n",
    "    m = gp.Model('vlsi_v1')\n",
    "\n",
    "    # Calculating bounds\n",
    "    height_lb = (np.array(widths)@np.array(heights)) / w\n",
    "    height_ub = sum(heights)\n",
    "\n",
    "    # Create variables\n",
    "    coordinates_x = [m.addVar(vtype='I', name=f'x_{i}', ub=w - widths[i]) for i in range(n)]\n",
    "    coordinates_y = [m.addVar(vtype='I', name=f'y_{i}', ub=height_ub - heights[i]) for i in range(n)]\n",
    "    chip_heights = [m.addVar(vtype='I', name=f'max_y_{i}', lb=heights[i], ub=height_ub) for i in range(n)]\n",
    "    max_height = m.addVar(vtype='I', name='max_height', lb=height_lb, ub=height_ub)\n",
    "\n",
    "    # Add constraints\n",
    "    # Maximum heights\n",
    "    m.addConstrs((chip_heights[i] == coordinates_y[i] + heights[i] for i in range(n)))\n",
    "    # Maximum height\n",
    "    m.addConstr(max_height == gp.max_(chip_heights))\n",
    "\n",
    "    # No overlap constraints\n",
    "    for i in range(n):\n",
    "        for j in range(i + 1, n):\n",
    "            j_is_left = m.addVar(vtype='B', name=f'j_is_left_{i}_{j}')\n",
    "            m.addGenConstrIndicator(j_is_left, True, coordinates_x[i] >= coordinates_x[j] + widths[j])\n",
    "\n",
    "            j_is_right = m.addVar(vtype='B', name=f'j_is_right_{i}_{j}')\n",
    "            m.addGenConstrIndicator(j_is_right, True, coordinates_x[i] + widths[i] <= coordinates_x[j])\n",
    "\n",
    "            j_is_down = m.addVar(vtype='B', name=f'j_is_down_{i}_{j}')\n",
    "            m.addGenConstrIndicator(j_is_down, True, coordinates_y[i] >= coordinates_y[j] + heights[j])\n",
    "\n",
    "            j_is_up = m.addVar(vtype='B', name=f'j_is_up_{i}_{j}')\n",
    "            m.addGenConstrIndicator(j_is_up, True, coordinates_y[i] + heights[i] <= coordinates_y[j])\n",
    "\n",
    "            m.addConstr(j_is_left + j_is_right + j_is_down + j_is_up >= 1)\n",
    "\n",
    "    # Set objective function\n",
    "    m.setObjective(max_height, gp.GRB.MINIMIZE)\n",
    "\n",
    "    # Solve it!\n",
    "    m.Params.output_flag = verbose\n",
    "    m.Params.time_limit = 300.0\n",
    "    m.optimize()\n",
    "\n",
    "    return m.getAttr('runtime'), [v.X for v in coordinates_x], [v.X for v in coordinates_y], max_height.X\n"
   ]
  },
  {
   "cell_type": "code",
   "execution_count": 32,
   "metadata": {},
   "outputs": [],
   "source": [
    "def execute(instance, exec_name, save_sol=True, display_image=True, save_image=True, verbose=0):\n",
    "    path = os.path.abspath('')\n",
    "\n",
    "    w, n, widths, heights = load_data(instance)\n",
    "\n",
    "    runtime, c_x, c_y, h = models[exec_name](w, n, widths, heights, verbose=verbose)\n",
    "\n",
    "    if save_sol:\n",
    "        write_sol(path + f'/out/{exec_name}/{instance}.txt', w, h, n, widths, heights, c_x, c_y)\n",
    "\n",
    "    if display_image:\n",
    "        plot_device(c_x, c_y, widths, heights, max(w, h), max(w, h))\n",
    "\n",
    "    if save_image:\n",
    "        plot_device(c_x, c_y, widths, heights, max(w, h), max(w, h), path + f'/img/{exec_name}/{instance}.png')\n",
    "\n",
    "    return runtime, h\n"
   ]
  },
  {
   "cell_type": "code",
   "execution_count": 22,
   "metadata": {},
   "outputs": [
    {
     "data": {
      "text/plain": [
       "<Figure size 640x480 with 0 Axes>"
      ]
     },
     "metadata": {},
     "output_type": "display_data"
    },
    {
     "data": {
      "text/plain": [
       "<Figure size 640x480 with 0 Axes>"
      ]
     },
     "metadata": {},
     "output_type": "display_data"
    },
    {
     "data": {
      "text/plain": [
       "<Figure size 640x480 with 0 Axes>"
      ]
     },
     "metadata": {},
     "output_type": "display_data"
    },
    {
     "data": {
      "text/plain": [
       "<Figure size 640x480 with 0 Axes>"
      ]
     },
     "metadata": {},
     "output_type": "display_data"
    },
    {
     "data": {
      "text/plain": [
       "<Figure size 640x480 with 0 Axes>"
      ]
     },
     "metadata": {},
     "output_type": "display_data"
    },
    {
     "data": {
      "text/plain": [
       "<Figure size 640x480 with 0 Axes>"
      ]
     },
     "metadata": {},
     "output_type": "display_data"
    },
    {
     "data": {
      "text/plain": [
       "<Figure size 640x480 with 0 Axes>"
      ]
     },
     "metadata": {},
     "output_type": "display_data"
    },
    {
     "data": {
      "text/plain": [
       "<Figure size 640x480 with 0 Axes>"
      ]
     },
     "metadata": {},
     "output_type": "display_data"
    },
    {
     "data": {
      "text/plain": [
       "<Figure size 640x480 with 0 Axes>"
      ]
     },
     "metadata": {},
     "output_type": "display_data"
    },
    {
     "data": {
      "text/plain": [
       "<Figure size 640x480 with 0 Axes>"
      ]
     },
     "metadata": {},
     "output_type": "display_data"
    },
    {
     "data": {
      "text/plain": [
       "<Figure size 640x480 with 0 Axes>"
      ]
     },
     "metadata": {},
     "output_type": "display_data"
    }
   ],
   "source": [
    "exec_name = 'model_with_bounds'\n",
    "for i in range(1, 12):\n",
    "    t, h = execute(i, exec_name, display_image=False)\n",
    "    write_stat_line(os.path.abspath('') + f'/stats/{exec_name}.csv', i, h, t)"
   ]
  },
  {
   "cell_type": "code",
   "execution_count": 36,
   "metadata": {},
   "outputs": [
    {
     "name": "stdout",
     "output_type": "stream",
     "text": [
      "(26, 22, [3, 3, 3, 3, 3, 3, 3, 3, 3, 3, 3, 3, 3, 3, 3, 4, 4, 4, 4, 4, 4, 4], [3, 4, 5, 6, 7, 8, 9, 10, 11, 12, 14, 15, 16, 17, 19, 3, 4, 5, 7, 8, 11, 14])\n",
      "Set parameter TimeLimit to value 300\n",
      "Gurobi Optimizer version 9.5.2 build v9.5.2rc0 (win64)\n",
      "Thread count: 4 physical cores, 8 logical processors, using up to 8 threads\n",
      "Optimize a model with 253 rows, 991 columns and 968 nonzeros\n",
      "Model fingerprint: 0x3de39f43\n",
      "Model has 925 general constraints\n",
      "Variable types: 0 continuous, 991 integer (924 binary)\n",
      "Coefficient statistics:\n",
      "  Matrix range     [1e+00, 1e+00]\n",
      "  Objective range  [1e+00, 1e+00]\n",
      "  Bounds range     [1e+00, 2e+02]\n",
      "  RHS range        [1e+00, 2e+01]\n",
      "  GenCon rhs range [3e+00, 2e+01]\n",
      "  GenCon coe range [1e+00, 1e+00]\n",
      "Presolve added 947 rows and 22 columns\n",
      "Presolve time: 0.02s\n",
      "Presolved: 1200 rows, 1013 columns, 3828 nonzeros\n",
      "Variable types: 0 continuous, 1013 integer (946 binary)\n",
      "Found heuristic solution: objective 166.0000000\n",
      "Found heuristic solution: objective 165.0000000\n",
      "Found heuristic solution: objective 164.0000000\n",
      "Found heuristic solution: objective 163.0000000\n",
      "\n",
      "Root relaxation: objective 2.600000e+01, 1053 iterations, 0.01 seconds (0.00 work units)\n",
      "\n",
      "    Nodes    |    Current Node    |     Objective Bounds      |     Work\n",
      " Expl Unexpl |  Obj  Depth IntInf | Incumbent    BestBd   Gap | It/Node Time\n",
      "\n",
      "     0     0   26.00000    0    8  163.00000   26.00000  84.0%     -    0s\n",
      "H    0     0                      45.0000000   26.00000  42.2%     -    0s\n",
      "H    0     0                      44.0000000   26.00000  40.9%     -    0s\n",
      "     0     0   26.00000    0   41   44.00000   26.00000  40.9%     -    0s\n",
      "H    0     0                      40.0000000   26.00000  35.0%     -    0s\n",
      "     0     0   26.00000    0   38   40.00000   26.00000  35.0%     -    0s\n",
      "     0     0   26.00000    0    8   40.00000   26.00000  35.0%     -    0s\n",
      "H    0     0                      39.0000000   26.00000  33.3%     -    0s\n",
      "H    0     0                      37.0000000   26.00000  29.7%     -    0s\n",
      "H    0     0                      36.0000000   26.00000  27.8%     -    0s\n",
      "H    0     0                      34.0000000   26.00000  23.5%     -    0s\n",
      "     0     0   26.00000    0    6   34.00000   26.00000  23.5%     -    0s\n",
      "     0     0   26.00000    0    6   34.00000   26.00000  23.5%     -    0s\n",
      "H    0     0                      33.0000000   26.00000  21.2%     -    0s\n",
      "     0     0   26.00000    0    8   33.00000   26.00000  21.2%     -    0s\n",
      "     0     0   26.00000    0    8   33.00000   26.00000  21.2%     -    0s\n",
      "     0     2   26.00000    0    8   33.00000   26.00000  21.2%     -    0s\n",
      "H   31    40                      32.0000000   26.00000  18.8%  11.0    0s\n",
      "*  324   406              95      31.0000000   26.00000  16.1%  11.9    0s\n",
      "*  545   456              94      30.0000000   26.00000  13.3%  10.7    0s\n",
      "H 1589  1082                      29.0000000   26.00000  10.3%   3.9    1s\n",
      "* 2483  1141              99      28.0000000   26.00000  7.14%   6.8    1s\n",
      "* 2618  1022             101      27.0000000   26.00000  3.70%   7.2    1s\n",
      "  8418  3600   26.00000   72   23   27.00000   26.00000  3.70%  19.3    5s\n",
      " 23194  9247 infeasible  117        27.00000   26.00000  3.70%  16.8   10s\n",
      " 33488 12967 infeasible  104        27.00000   26.00000  3.70%  16.3   16s\n",
      " 42215 16920   26.00000   99   11   27.00000   26.00000  3.70%  17.7   20s\n",
      " 55896 22338 infeasible   94        27.00000   26.00000  3.70%  18.5   25s\n",
      " 68980 27824   26.00000   60   12   27.00000   26.00000  3.70%  19.1   30s\n",
      "*72661   593              86      26.0000000   26.00000  0.00%  19.0   31s\n",
      "\n",
      "Cutting planes:\n",
      "  Gomory: 4\n",
      "  Cover: 6\n",
      "  Implied bound: 9\n",
      "  Clique: 20\n",
      "  Flow cover: 13\n",
      "  RLT: 4\n",
      "  Relax-and-lift: 3\n",
      "\n",
      "Explored 72824 nodes (1399640 simplex iterations) in 31.77 seconds (17.29 work units)\n",
      "Thread count was 8 (of 8 available processors)\n",
      "\n",
      "Solution count 10: 26 27 28 ... 36\n",
      "\n",
      "Optimal solution found (tolerance 1.00e-04)\n",
      "Best objective 2.600000000000e+01, best bound 2.600000000000e+01, gap 0.0000%\n"
     ]
    },
    {
     "data": {
      "image/png": "[encoded data removed]",
      "text/plain": [
       "<Figure size 640x480 with 1 Axes>"
      ]
     },
     "metadata": {},
     "output_type": "display_data"
    },
    {
     "name": "stdout",
     "output_type": "stream",
     "text": [
      "Execution time: 31.775794982910156\n",
      "Height of the silicon plate: 26.0\n"
     ]
    }
   ],
   "source": [
    "print(load_data(19))\n",
    "r, h = execute(19, \"test\", save_sol=False, save_image=False, verbose=1)\n",
    "\n",
    "print(f'Execution time: {r}\\nHeight of the silicon plate: {h}')"
   ]
  },
  {
   "cell_type": "code",
   "execution_count": null,
   "metadata": {},
   "outputs": [],
   "source": [
    "0 1 2 3 4 5 6 7 8 9 19 11 12 13 14 15\n"
   ]
  }
 ],
 "metadata": {
  "colab": {
   "authorship_tag": "ABX9TyNhoLiZJ4gPrgofbsWYZ1d3",
   "include_colab_link": true,
   "provenance": []
  },
  "kernelspec": {
   "display_name": "Python 3 (ipykernel)",
   "language": "python",
   "name": "python3"
  },
  "language_info": {
   "codemirror_mode": {
    "name": "ipython",
    "version": 3
   },
   "file_extension": ".py",
   "mimetype": "text/x-python",
   "name": "python",
   "nbconvert_exporter": "python",
   "pygments_lexer": "ipython3",
   "version": "3.9.12"
  }
 },
 "nbformat": 4,
 "nbformat_minor": 1
}